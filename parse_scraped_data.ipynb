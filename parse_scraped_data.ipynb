{
 "cells": [
  {
   "cell_type": "code",
   "execution_count": 1,
   "id": "c772f9a5",
   "metadata": {},
   "outputs": [],
   "source": [
    "import pickle\n",
    "\n"
   ]
  },
  {
   "cell_type": "code",
   "execution_count": 8,
   "id": "3f7bb9b7",
   "metadata": {},
   "outputs": [],
   "source": [
    "rez = pickle.load(open(\"./checkpoint_4\", \"rb\"))"
   ]
  },
  {
   "cell_type": "raw",
   "id": "83207c46",
   "metadata": {},
   "source": [
    "print(rez)"
   ]
  },
  {
   "cell_type": "code",
   "execution_count": 10,
   "id": "05df97d8",
   "metadata": {},
   "outputs": [
    {
     "name": "stdout",
     "output_type": "stream",
     "text": [
      "dict_keys(['last_iteration', 'elements'])\n"
     ]
    }
   ],
   "source": [
    "print(rez.keys())"
   ]
  },
  {
   "cell_type": "code",
   "execution_count": 12,
   "id": "3575885d",
   "metadata": {},
   "outputs": [
    {
     "data": {
      "text/plain": [
       "48"
      ]
     },
     "execution_count": 12,
     "metadata": {},
     "output_type": "execute_result"
    }
   ],
   "source": [
    "len(rez[\"elements\"])"
   ]
  },
  {
   "cell_type": "code",
   "execution_count": 15,
   "id": "73196cd1",
   "metadata": {},
   "outputs": [
    {
     "data": {
      "text/plain": [
       "[ResultItem(result_id='121780', lot_id='1 ', price=None, currency='euro'),\n",
       " ResultItem(result_id='121780', lot_id='2 ', price='800', currency='euro'),\n",
       " ResultItem(result_id='121780', lot_id='3 ', price=None, currency='euro'),\n",
       " ResultItem(result_id='121780', lot_id='4 ', price='400', currency='euro'),\n",
       " ResultItem(result_id='121780', lot_id='5 ', price='620', currency='euro'),\n",
       " ResultItem(result_id='121780', lot_id='6 ', price='150', currency='euro'),\n",
       " ResultItem(result_id='121780', lot_id='7 ', price='220', currency='euro'),\n",
       " ResultItem(result_id='121780', lot_id='8 ', price='200', currency='euro'),\n",
       " ResultItem(result_id='121780', lot_id='9 ', price='750', currency='euro'),\n",
       " ResultItem(result_id='121780', lot_id='10 ', price='420', currency='euro'),\n",
       " ResultItem(result_id='121780', lot_id='12 ', price='150', currency='euro'),\n",
       " ResultItem(result_id='121780', lot_id='13 ', price='570', currency='euro'),\n",
       " ResultItem(result_id='121780', lot_id='14 ', price='370', currency='euro'),\n",
       " ResultItem(result_id='121780', lot_id='15 ', price='260', currency='euro'),\n",
       " ResultItem(result_id='121780', lot_id='16 ', price='800', currency='euro'),\n",
       " ResultItem(result_id='121780', lot_id='19 ', price='300', currency='euro'),\n",
       " ResultItem(result_id='121780', lot_id='20 ', price=None, currency='euro'),\n",
       " ResultItem(result_id='121780', lot_id='21 ', price='200', currency='euro'),\n",
       " ResultItem(result_id='121780', lot_id='22 ', price='150', currency='euro'),\n",
       " ResultItem(result_id='121780', lot_id='23 ', price='200', currency='euro'),\n",
       " ResultItem(result_id='121780', lot_id='24 ', price='200', currency='euro'),\n",
       " ResultItem(result_id='121780', lot_id='27 ', price=None, currency='euro'),\n",
       " ResultItem(result_id='121780', lot_id='28 ', price=None, currency='euro'),\n",
       " ResultItem(result_id='121780', lot_id='32 ', price='330', currency='euro'),\n",
       " ResultItem(result_id='121780', lot_id='33 ', price='980', currency='euro'),\n",
       " ResultItem(result_id='121780', lot_id='34 ', price='310', currency='euro'),\n",
       " ResultItem(result_id='121780', lot_id='35 ', price='850', currency='euro'),\n",
       " ResultItem(result_id='121780', lot_id='36 ', price='750', currency='euro'),\n",
       " ResultItem(result_id='121780', lot_id='41 ', price=None, currency='euro'),\n",
       " ResultItem(result_id='121780', lot_id='42 ', price='980', currency='euro'),\n",
       " ResultItem(result_id='121780', lot_id='43 ', price='440', currency='euro'),\n",
       " ResultItem(result_id='121780', lot_id='44 ', price='180', currency='euro'),\n",
       " ResultItem(result_id='121780', lot_id='45 ', price=None, currency='euro'),\n",
       " ResultItem(result_id='121780', lot_id='46 ', price='210', currency='euro'),\n",
       " ResultItem(result_id='121780', lot_id='47 ', price='500', currency='euro'),\n",
       " ResultItem(result_id='121780', lot_id='48 ', price='190', currency='euro'),\n",
       " ResultItem(result_id='121780', lot_id='49 ', price='260', currency='euro'),\n",
       " ResultItem(result_id='121780', lot_id='51 ', price='650', currency='euro'),\n",
       " ResultItem(result_id='121780', lot_id='52 ', price='110', currency='euro'),\n",
       " ResultItem(result_id='121780', lot_id='54 ', price='360', currency='euro'),\n",
       " ResultItem(result_id='121780', lot_id='55 ', price='900', currency='euro'),\n",
       " ResultItem(result_id='121780', lot_id='57 ', price='50', currency='euro'),\n",
       " ResultItem(result_id='121780', lot_id='58 ', price='250', currency='euro'),\n",
       " ResultItem(result_id='121780', lot_id='60 ', price='300', currency='euro'),\n",
       " ResultItem(result_id='121780', lot_id='61 ', price='220', currency='euro'),\n",
       " ResultItem(result_id='121780', lot_id='63 ', price='210', currency='euro'),\n",
       " ResultItem(result_id='121780', lot_id='65 ', price='850', currency='euro'),\n",
       " ResultItem(result_id='121780', lot_id='66 ', price='250', currency='euro'),\n",
       " ResultItem(result_id='121780', lot_id='67 ', price='310', currency='euro'),\n",
       " ResultItem(result_id='121780', lot_id='68 ', price='140', currency='euro'),\n",
       " ResultItem(result_id='121780', lot_id='69 ', price=None, currency='euro'),\n",
       " ResultItem(result_id='121780', lot_id='70 ', price=None, currency='euro'),\n",
       " ResultItem(result_id='121780', lot_id='71 ', price=None, currency='euro'),\n",
       " ResultItem(result_id='121780', lot_id='72 ', price='320', currency='euro'),\n",
       " ResultItem(result_id='121780', lot_id='73 ', price='145', currency='euro'),\n",
       " ResultItem(result_id='121780', lot_id='74 ', price=None, currency='euro'),\n",
       " ResultItem(result_id='121780', lot_id='75 ', price='320', currency='euro'),\n",
       " ResultItem(result_id='121780', lot_id='76 ', price='150', currency='euro'),\n",
       " ResultItem(result_id='121780', lot_id='77 ', price=None, currency='euro'),\n",
       " ResultItem(result_id='121780', lot_id='79 ', price='900', currency='euro'),\n",
       " ResultItem(result_id='121780', lot_id='80 ', price='200', currency='euro'),\n",
       " ResultItem(result_id='121780', lot_id='82 ', price='100', currency='euro'),\n",
       " ResultItem(result_id='121780', lot_id='83 ', price='210', currency='euro'),\n",
       " ResultItem(result_id='121780', lot_id='84 ', price='300', currency='euro'),\n",
       " ResultItem(result_id='121780', lot_id='87 ', price='450', currency='euro'),\n",
       " ResultItem(result_id='121780', lot_id='88 ', price='800', currency='euro'),\n",
       " ResultItem(result_id='121780', lot_id='89 ', price='250', currency='euro'),\n",
       " ResultItem(result_id='121780', lot_id='90 ', price='280', currency='euro'),\n",
       " ResultItem(result_id='121780', lot_id='91 ', price='280', currency='euro'),\n",
       " ResultItem(result_id='121780', lot_id='92 ', price='40', currency='euro'),\n",
       " ResultItem(result_id='121780', lot_id='93 ', price='360', currency='euro'),\n",
       " ResultItem(result_id='121780', lot_id='94 ', price='160', currency='euro'),\n",
       " ResultItem(result_id='121780', lot_id='95 ', price='300', currency='euro'),\n",
       " ResultItem(result_id='121780', lot_id='96 ', price='370', currency='euro'),\n",
       " ResultItem(result_id='121780', lot_id='97 ', price='480', currency='euro'),\n",
       " ResultItem(result_id='121780', lot_id='98 ', price=None, currency='euro'),\n",
       " ResultItem(result_id='121780', lot_id='99 ', price='800', currency='euro'),\n",
       " ResultItem(result_id='121780', lot_id='102 ', price='150', currency='euro'),\n",
       " ResultItem(result_id='121780', lot_id='103 ', price='530', currency='euro'),\n",
       " ResultItem(result_id='121780', lot_id='104 ', price=None, currency='euro'),\n",
       " ResultItem(result_id='121780', lot_id='105 ', price=None, currency='euro'),\n",
       " ResultItem(result_id='121780', lot_id='106 ', price='500', currency='euro'),\n",
       " ResultItem(result_id='121780', lot_id='107 ', price='150', currency='euro'),\n",
       " ResultItem(result_id='121780', lot_id='108 ', price='790', currency='euro'),\n",
       " ResultItem(result_id='121780', lot_id='109 ', price='600', currency='euro'),\n",
       " ResultItem(result_id='121780', lot_id='110 ', price='380', currency='euro'),\n",
       " ResultItem(result_id='121780', lot_id='111 ', price='60', currency='euro'),\n",
       " ResultItem(result_id='121780', lot_id='113 ', price='180', currency='euro'),\n",
       " ResultItem(result_id='121780', lot_id='114 ', price='570', currency='euro'),\n",
       " ResultItem(result_id='121780', lot_id='115 ', price='280', currency='euro'),\n",
       " ResultItem(result_id='121780', lot_id='116 ', price='880', currency='euro'),\n",
       " ResultItem(result_id='121780', lot_id='117 ', price='210', currency='euro'),\n",
       " ResultItem(result_id='121780', lot_id='119 ', price=None, currency='euro'),\n",
       " ResultItem(result_id='121780', lot_id='121 ', price='200', currency='euro'),\n",
       " ResultItem(result_id='121780', lot_id='122 ', price='200', currency='euro'),\n",
       " ResultItem(result_id='121780', lot_id='123 ', price='580', currency='euro'),\n",
       " ResultItem(result_id='121780', lot_id='124 ', price='750', currency='euro'),\n",
       " ResultItem(result_id='121780', lot_id='126 ', price=None, currency='euro'),\n",
       " ResultItem(result_id='121780', lot_id='127 ', price='300', currency='euro'),\n",
       " ResultItem(result_id='121780', lot_id='128 ', price=None, currency='euro'),\n",
       " ResultItem(result_id='121780', lot_id='129 ', price='110', currency='euro'),\n",
       " ResultItem(result_id='121780', lot_id='130 ', price='80', currency='euro'),\n",
       " ResultItem(result_id='121780', lot_id='131 ', price='610', currency='euro'),\n",
       " ResultItem(result_id='121780', lot_id='132 ', price='420', currency='euro'),\n",
       " ResultItem(result_id='121780', lot_id='133 ', price='400', currency='euro'),\n",
       " ResultItem(result_id='121780', lot_id='134 ', price='180', currency='euro'),\n",
       " ResultItem(result_id='121780', lot_id='135 ', price='100', currency='euro'),\n",
       " ResultItem(result_id='121780', lot_id='136 ', price='40', currency='euro'),\n",
       " ResultItem(result_id='121780', lot_id='137 ', price='350', currency='euro'),\n",
       " ResultItem(result_id='121780', lot_id='138 ', price='460', currency='euro'),\n",
       " ResultItem(result_id='121780', lot_id='139 ', price='400', currency='euro'),\n",
       " ResultItem(result_id='121780', lot_id='140 ', price='130', currency='euro'),\n",
       " ResultItem(result_id='121780', lot_id='141 ', price='280', currency='euro'),\n",
       " ResultItem(result_id='121780', lot_id='142 ', price='150', currency='euro'),\n",
       " ResultItem(result_id='121780', lot_id='143 ', price='450', currency='euro'),\n",
       " ResultItem(result_id='121780', lot_id='145 ', price='500', currency='euro'),\n",
       " ResultItem(result_id='121780', lot_id='146 ', price='180', currency='euro'),\n",
       " ResultItem(result_id='121780', lot_id='147 ', price=None, currency='euro'),\n",
       " ResultItem(result_id='121780', lot_id='149 ', price=None, currency='euro'),\n",
       " ResultItem(result_id='121780', lot_id='150 ', price='130', currency='euro'),\n",
       " ResultItem(result_id='121780', lot_id='152 ', price=None, currency='euro'),\n",
       " ResultItem(result_id='121780', lot_id='154 ', price='350', currency='euro'),\n",
       " ResultItem(result_id='121780', lot_id='155 ', price='400', currency='euro'),\n",
       " ResultItem(result_id='121780', lot_id='156 ', price='140', currency='euro'),\n",
       " ResultItem(result_id='121780', lot_id='157 ', price='850', currency='euro'),\n",
       " ResultItem(result_id='121780', lot_id='158 ', price=None, currency='euro'),\n",
       " ResultItem(result_id='121780', lot_id='159 ', price='160', currency='euro'),\n",
       " ResultItem(result_id='121780', lot_id='160 ', price='200', currency='euro'),\n",
       " ResultItem(result_id='121780', lot_id='161 ', price='90', currency='euro'),\n",
       " ResultItem(result_id='121780', lot_id='162 ', price='30', currency='euro'),\n",
       " ResultItem(result_id='121780', lot_id='163 ', price='210', currency='euro'),\n",
       " ResultItem(result_id='121780', lot_id='164 ', price='90', currency='euro'),\n",
       " ResultItem(result_id='121780', lot_id='166 ', price='70', currency='euro'),\n",
       " ResultItem(result_id='121780', lot_id='167 ', price='900', currency='euro'),\n",
       " ResultItem(result_id='121780', lot_id='168 ', price='130', currency='euro'),\n",
       " ResultItem(result_id='121780', lot_id='170 ', price='200', currency='euro'),\n",
       " ResultItem(result_id='121780', lot_id='171 ', price='80', currency='euro'),\n",
       " ResultItem(result_id='121780', lot_id='172 ', price='30', currency='euro'),\n",
       " ResultItem(result_id='121780', lot_id='173 ', price='80', currency='euro'),\n",
       " ResultItem(result_id='121780', lot_id='174 ', price='150', currency='euro'),\n",
       " ResultItem(result_id='121780', lot_id='175 ', price='40', currency='euro'),\n",
       " ResultItem(result_id='121780', lot_id='175 2', price=None, currency='euro'),\n",
       " ResultItem(result_id='121780', lot_id='176 ', price='120', currency='euro'),\n",
       " ResultItem(result_id='121780', lot_id='178 ', price='60', currency='euro'),\n",
       " ResultItem(result_id='121780', lot_id='179 ', price='110', currency='euro'),\n",
       " ResultItem(result_id='121780', lot_id='180 ', price='150', currency='euro'),\n",
       " ResultItem(result_id='121780', lot_id='182 ', price='100', currency='euro'),\n",
       " ResultItem(result_id='121780', lot_id='183 ', price='150', currency='euro'),\n",
       " ResultItem(result_id='121780', lot_id='184 ', price='100', currency='euro'),\n",
       " ResultItem(result_id='121780', lot_id='186 ', price='240', currency='euro'),\n",
       " ResultItem(result_id='121780', lot_id='187 ', price=None, currency='euro'),\n",
       " ResultItem(result_id='121780', lot_id='190 ', price='90', currency='euro'),\n",
       " ResultItem(result_id='121780', lot_id='191 ', price=None, currency='euro'),\n",
       " ResultItem(result_id='121780', lot_id='192 ', price='280', currency='euro'),\n",
       " ResultItem(result_id='121780', lot_id='193 ', price=None, currency='euro'),\n",
       " ResultItem(result_id='121780', lot_id='194 ', price='800', currency='euro'),\n",
       " ResultItem(result_id='121780', lot_id='195 ', price=None, currency='euro'),\n",
       " ResultItem(result_id='121780', lot_id='196 ', price='130', currency='euro'),\n",
       " ResultItem(result_id='121780', lot_id='197 ', price=None, currency='euro'),\n",
       " ResultItem(result_id='121780', lot_id='198 ', price='100', currency='euro'),\n",
       " ResultItem(result_id='121780', lot_id='199 ', price='600', currency='euro'),\n",
       " ResultItem(result_id='121780', lot_id='200 ', price='750', currency='euro'),\n",
       " ResultItem(result_id='121780', lot_id='201 ', price=None, currency='euro'),\n",
       " ResultItem(result_id='121780', lot_id='202 ', price='280', currency='euro'),\n",
       " ResultItem(result_id='121780', lot_id='203 ', price='150', currency='euro'),\n",
       " ResultItem(result_id='121780', lot_id='204 ', price='400', currency='euro'),\n",
       " ResultItem(result_id='121780', lot_id='205 ', price='400', currency='euro'),\n",
       " ResultItem(result_id='121780', lot_id='206 ', price='230', currency='euro'),\n",
       " ResultItem(result_id='121780', lot_id='208 ', price='400', currency='euro'),\n",
       " ResultItem(result_id='121780', lot_id='209 ', price=None, currency='euro'),\n",
       " ResultItem(result_id='121780', lot_id='210 ', price='220', currency='euro'),\n",
       " ResultItem(result_id='121780', lot_id='211 ', price='80', currency='euro'),\n",
       " ResultItem(result_id='121780', lot_id='213 ', price='620', currency='euro'),\n",
       " ResultItem(result_id='121780', lot_id='214 ', price='200', currency='euro'),\n",
       " ResultItem(result_id='121780', lot_id='215 ', price=None, currency='euro'),\n",
       " ResultItem(result_id='121780', lot_id='216 ', price='100', currency='euro'),\n",
       " ResultItem(result_id='121780', lot_id='217 ', price='600', currency='euro'),\n",
       " ResultItem(result_id='121780', lot_id='218 ', price='450', currency='euro'),\n",
       " ResultItem(result_id='121780', lot_id='219 ', price='140', currency='euro'),\n",
       " ResultItem(result_id='121780', lot_id='220 ', price='70', currency='euro'),\n",
       " ResultItem(result_id='121780', lot_id='221 ', price='450', currency='euro'),\n",
       " ResultItem(result_id='121780', lot_id='222 ', price='330', currency='euro'),\n",
       " ResultItem(result_id='121780', lot_id='223 ', price='260', currency='euro'),\n",
       " ResultItem(result_id='121780', lot_id='224 ', price=None, currency='euro'),\n",
       " ResultItem(result_id='121780', lot_id='225 ', price='150', currency='euro'),\n",
       " ResultItem(result_id='121780', lot_id='227 ', price='120', currency='euro'),\n",
       " ResultItem(result_id='121780', lot_id='228 ', price='700', currency='euro'),\n",
       " ResultItem(result_id='121780', lot_id='229 ', price='750', currency='euro'),\n",
       " ResultItem(result_id='121780', lot_id='230 ', price='530', currency='euro'),\n",
       " ResultItem(result_id='121780', lot_id='231 ', price='250', currency='euro'),\n",
       " ResultItem(result_id='121780', lot_id='232 ', price='150', currency='euro'),\n",
       " ResultItem(result_id='121780', lot_id='233 ', price='350', currency='euro'),\n",
       " ResultItem(result_id='121780', lot_id='234 ', price='950', currency='euro'),\n",
       " ResultItem(result_id='121780', lot_id='235 ', price='130', currency='euro'),\n",
       " ResultItem(result_id='121780', lot_id='236 ', price='160', currency='euro'),\n",
       " ResultItem(result_id='121780', lot_id='238 ', price='140', currency='euro'),\n",
       " ResultItem(result_id='121780', lot_id='239 ', price='100', currency='euro'),\n",
       " ResultItem(result_id='121780', lot_id='240 ', price='380', currency='euro'),\n",
       " ResultItem(result_id='121780', lot_id='241 ', price='600', currency='euro'),\n",
       " ResultItem(result_id='121780', lot_id='242 ', price='140', currency='euro'),\n",
       " ResultItem(result_id='121780', lot_id='243 ', price='750', currency='euro'),\n",
       " ResultItem(result_id='121780', lot_id='244 ', price='260', currency='euro'),\n",
       " ResultItem(result_id='121780', lot_id='245 ', price='180', currency='euro'),\n",
       " ResultItem(result_id='121780', lot_id='246 ', price='150', currency='euro'),\n",
       " ResultItem(result_id='121780', lot_id='247 ', price=None, currency='euro')]"
      ]
     },
     "execution_count": 15,
     "metadata": {},
     "output_type": "execute_result"
    }
   ],
   "source": [
    "rez[\"elements\"][0].result_elements"
   ]
  },
  {
   "cell_type": "code",
   "execution_count": 17,
   "id": "9eec9623",
   "metadata": {},
   "outputs": [
    {
     "data": {
      "text/plain": [
       "CatalogItem(catalog_id='121780-tableaux-mobilier-et-objets-d-art-argenterie-art-d-asie', lot_id='/lots/17058994-attribue-a-adriaen-van-der', presentation=\"\\n\\nLot n° 1\\n\\n                                    \\n                                        Attribué à Adriaen VAN DER KABEL…\\n                                    \\n                                \\n\\n                                    Attribué à Adriaen VAN DER KABEL (1631-1705)\\nVue d'un port au Levant\\nHuile sur toile\\n40 x 54 cm\\n(cadre en bois doré )\\n                                \\n\\n\", result=None, estimation='\\n                                    Résultat :\\n                                    \\n                                        \\n                                            3\\xa0100 EUR\\n                                        \\n                                    \\n                                    \\n                                        /\\n                                        Estimation :\\n                                        \\n                                            1\\xa0000 - 1\\xa0500 EUR\\n                                        \\n')"
      ]
     },
     "execution_count": 17,
     "metadata": {},
     "output_type": "execute_result"
    }
   ],
   "source": [
    "rez[\"elements\"][0].catalog_elements[0]"
   ]
  },
  {
   "cell_type": "code",
   "execution_count": 50,
   "id": "094a2d4e",
   "metadata": {},
   "outputs": [
    {
     "data": {
      "text/plain": [
       "CatalogItem(catalog_id='121780-tableaux-mobilier-et-objets-d-art-argenterie-art-d-asie', lot_id='/lots/17059004-hilaire-le-dru-1769-1840--les', presentation='\\n\\nLot n° 11\\n\\n                                    \\n                                        Hilaire LE DRU (1769-1840)\\nLes…\\n                                    \\n                                \\n\\n                                    Hilaire LE DRU (1769-1840)\\nLes pénibles adieux\\nReprésentant du peuple entouré de sa famille déposant des fleurs sur la tombe de son épouse\\ndessin au crayon sur papier\\nSigné en bas à gauche\\n31, 5 x 44 cm\\n\\nCe dessin fut exposé au salon de 1796 \\nVente Pierre…\\n                                \\n\\n', result=None, estimation='\\n                                    Résultat :\\n                                    \\n                                        \\n                                            Non Communiqué\\n                                        \\n                                    \\n                                    \\n                                        /\\n                                        Estimation :\\n                                        \\n                                            200 - 400 EUR\\n                                        \\n')"
      ]
     },
     "execution_count": 50,
     "metadata": {},
     "output_type": "execute_result"
    }
   ],
   "source": [
    "rez[\"elements\"][0].catalog_elements[11]"
   ]
  },
  {
   "cell_type": "code",
   "execution_count": 305,
   "id": "4c617848",
   "metadata": {},
   "outputs": [],
   "source": [
    "from collections import Counter\n",
    "import itertools\n",
    "\n",
    "\n",
    "def parse_to_text_tokens(presentation):\n",
    "    return list(\n",
    "        map(lambda x: x.strip(\" …\"),\n",
    "            filter(lambda x: len(set(x)) > 1, \n",
    "                presentation.split(\"\\n\"))\n",
    "    ))\n",
    "\n",
    "\n",
    "\n",
    "def identify_lot_infos(lot_tokens):\n",
    "    funcs = [identify_lot_id, identify_date, identify_size, identify_volume, identify_author, \n",
    "             identify_fake, identify_authenticity]\n",
    "    identified_tokens = list(\n",
    "        filter(None, map(lambda x: x[0](x[1]), itertools.product(funcs, lot_tokens)))\n",
    "    )\n",
    "    return identified_tokens\n",
    "    \n",
    "\n",
    "def identify_estimation_and_price(filtered_str):\n",
    "    match = re.search(\"\\s+Résultat\\s:\\s+(?P<result>[\\w]*)\\s(?P<currency_opt>[\\w]*).*Estimation :\\s+(?P<estimation_low>[0-9]+)\\s- (?P<estimation_high>[0-9]+) (?P<currency>[A-Z]*)\\s+.\", \n",
    "              filtered_str)\n",
    "    if match:\n",
    "        return match.groupdict()\n",
    "    \n",
    "def str_reverse(str_):\n",
    "    return \"\".join(reversed(str_))\n",
    "\n",
    "def identify_author(filtered_str):\n",
    "    \"\"\"\n",
    "    Pattern 1, 2 : match \"Jean-Sébastien D'ASNIERE POUET\"\n",
    "    Pattern 3 : match \"D'après Frank RIBERA\"\n",
    "    Pattern 4 : match \"D'après RIBERA\"\n",
    "    \"\"\"\n",
    "    match = re.search(\"\\)\\s*(?P<death>[0-9]{4})\\s*\\-\\s*(?P<birth>[0-9]{4})\\s*\\(\\s+(?P<surname>[A-Z -']+)\\s+(?P<name>([A-Za-z -'éèê]+[A-Z])+)\", str_reverse(filtered_str))\n",
    "    if match:\n",
    "        return {k: str_reverse(v) for k, v in match.groupdict().items()}\n",
    "    match = re.search(\"(?P<name>[A-Za-z -'éèê]+)\\s+(?P<surname>[A-Z -']+)\\s+\\(\\s*(?P<birth>[0-9]{4})\\s*-\\s*(?P<death>[0-9]{4})\\s*\\)\", filtered_str)\n",
    "    if match:\n",
    "        return match.groupdict()\n",
    "    match = re.search(\"d?D?'après (?P<name>[A-Za-z -'éèê]+)\\s+(?P<surname>[A-Z -']+)\", filtered_str)\n",
    "    if match:\n",
    "        return match.groupdict()\n",
    "    match = re.search(\"d?D?'après (?P<surname>[A-Z -']+)\", filtered_str)\n",
    "    if match:\n",
    "        return match.groupdict()\n",
    "    \n",
    "def identify_volume(filtered_str):\n",
    "    match = re.search(\"H\\s?:\\s?(?P<height>[0-9]+)\\W*L\\s?:\\s?(?P<width>[0-9]+)\\W*P\\s?:\\s?(?P<depth>[0-9]+)\\s?(?P<unit>[a-z]{0,3})\", filtered_str)\n",
    "    if match:\n",
    "        return match.groupdict()\n",
    "    \n",
    "def identify_date(filtered_str):\n",
    "    for match_format in [\"(1[0-9]{3})\", \"(20[0-2]{1}[0-9]{1})\"]:\n",
    "        date_format_one = re.search(match_format, filtered_str)\n",
    "        if date_format_one is not None:\n",
    "            return int(date_format_one[1])\n",
    "    for match_format in [\"(1[0-9]{1})\\s?ème\", \"(2[0-1]{1})\\s?ème\"]:\n",
    "        date_format_one = re.search(match_format, filtered_str)\n",
    "        if date_format_one is not None:\n",
    "            return (int(date_format_one[1]) - 1) * 100 + 50\n",
    "\n",
    "def identify_lot_id(filtered_str):\n",
    "    match = re.match(\"Lot n° (?P<lot_id>[0-9]+)\\s?(?P<bis>b?i?s?t?e?r?)\", filtered_str)\n",
    "    if match:\n",
    "        return match.groupdict()\n",
    "    \n",
    "def identify_fake(filtered_str):\n",
    "    keyword_list = [\"Dans le goût de\", \"D'après\"]\n",
    "    if any(k.lower() in filtered_str.lower() for k in keyword_list):\n",
    "        return {\"fake\": True}\n",
    "\n",
    "def identify_authenticity(filtered_str):\n",
    "    keyword_list = [\"signé\", \"signature\", \"initiales\"]\n",
    "    if any(k.lower() in filtered_str.lower() for k in keyword_list):\n",
    "        return {\"authentic\": True}\n"
   ]
  },
  {
   "cell_type": "code",
   "execution_count": null,
   "id": "bda1e774",
   "metadata": {},
   "outputs": [],
   "source": [
    "\n",
    "all_items = list()\n",
    "for sale in rez[\"elements\"]:\n",
    "    if sale is None or sale.catalog_elements is None:\n",
    "        continue\n",
    "    for element in sale.catalog_elements:\n",
    "        current_item = list()\n",
    "        current_item.extend(identify_lot_infos(parse_to_text_tokens(element.presentation)))\n",
    "        current_item.append(\n",
    "            identify_estimation_and_price(element.estimation.replace(\"\\n\", \" \").replace(\"\\xa0\", \"\"))\n",
    "        )\n",
    "        all_items.append((current_item, element.presentation))\n",
    "\n",
    "for i, (x, y) in enumerate(all_items):\n",
    "    print(\"--------\")\n",
    "    print(y)\n",
    "    print(x)\n",
    "    print(\"\\n\\n\\n\")\n",
    "    if i > 40:\n",
    "        break\n",
    "# TODO : remove substrings, remove superfluous spaces, parse Lot id, try to parse size\n",
    "# words = [Aquarelle, Paysage de forêt, Huile sur toile, Gouache sur papier, Pastel sur papier]"
   ]
  },
  {
   "cell_type": "code",
   "execution_count": null,
   "id": "c2d380aa",
   "metadata": {},
   "outputs": [],
   "source": []
  },
  {
   "cell_type": "code",
   "execution_count": 187,
   "id": "88882ca6",
   "metadata": {},
   "outputs": [
    {
     "data": {
      "text/plain": [
       "{'result': 'Non Communiqué',\n",
       " 'estimation_low': '200',\n",
       " 'estimation_high': '400',\n",
       " 'currency': 'EUR'}"
      ]
     },
     "execution_count": 187,
     "metadata": {},
     "output_type": "execute_result"
    }
   ],
   "source": [
    "import re\n",
    "\n",
    "\n",
    "\n",
    "identify_estimation_and_price(rez[\"elements\"][0].catalog_elements[11].estimation.replace(\"\\n\", \" \").replace(\"\\xa0\", \"\"))"
   ]
  },
  {
   "cell_type": "code",
   "execution_count": 55,
   "id": "ecbddb0b",
   "metadata": {},
   "outputs": [
    {
     "data": {
      "text/plain": [
       "{'result': 'Non Communiqué', 'estimation': '200 - 400 EUR'}"
      ]
     },
     "execution_count": 55,
     "metadata": {},
     "output_type": "execute_result"
    }
   ],
   "source": [
    "group.groupdict()"
   ]
  },
  {
   "cell_type": "code",
   "execution_count": 56,
   "id": "2a70c830",
   "metadata": {},
   "outputs": [
    {
     "data": {
      "text/plain": [
       "'200 - 400 EUR'"
      ]
     },
     "execution_count": 56,
     "metadata": {},
     "output_type": "execute_result"
    }
   ],
   "source": [
    "group[2]"
   ]
  },
  {
   "cell_type": "code",
   "execution_count": null,
   "id": "5fcdbbec",
   "metadata": {},
   "outputs": [],
   "source": []
  },
  {
   "cell_type": "code",
   "execution_count": null,
   "id": "e7d72e08",
   "metadata": {},
   "outputs": [],
   "source": []
  },
  {
   "cell_type": "code",
   "execution_count": 172,
   "id": "56ad1f03",
   "metadata": {},
   "outputs": [],
   "source": []
  },
  {
   "cell_type": "code",
   "execution_count": 100,
   "id": "29b6c139",
   "metadata": {},
   "outputs": [
    {
     "data": {
      "text/plain": [
       "('3', '')"
      ]
     },
     "execution_count": 100,
     "metadata": {},
     "output_type": "execute_result"
    }
   ],
   "source": [
    "identify_lot_id(\"Lot n° 3\")"
   ]
  },
  {
   "cell_type": "code",
   "execution_count": 120,
   "id": "949c5a61",
   "metadata": {},
   "outputs": [],
   "source": []
  },
  {
   "cell_type": "code",
   "execution_count": 121,
   "id": "2b8ab962",
   "metadata": {},
   "outputs": [
    {
     "data": {
      "text/plain": [
       "1850"
      ]
     },
     "execution_count": 121,
     "metadata": {},
     "output_type": "execute_result"
    }
   ],
   "source": [
    "identify_date(\"19 ème siècle\")"
   ]
  },
  {
   "cell_type": "code",
   "execution_count": 122,
   "id": "0991152d",
   "metadata": {},
   "outputs": [
    {
     "data": {
      "text/plain": [
       "2050"
      ]
     },
     "execution_count": 122,
     "metadata": {},
     "output_type": "execute_result"
    }
   ],
   "source": [
    "identify_date(\"21 ème siècle\")"
   ]
  },
  {
   "cell_type": "code",
   "execution_count": 123,
   "id": "31334df2",
   "metadata": {},
   "outputs": [
    {
     "data": {
      "text/plain": [
       "1834"
      ]
     },
     "execution_count": 123,
     "metadata": {},
     "output_type": "execute_result"
    }
   ],
   "source": [
    "identify_date(\"1834\")"
   ]
  },
  {
   "cell_type": "code",
   "execution_count": 124,
   "id": "e01a6d10",
   "metadata": {},
   "outputs": [
    {
     "data": {
      "text/plain": [
       "2013"
      ]
     },
     "execution_count": 124,
     "metadata": {},
     "output_type": "execute_result"
    }
   ],
   "source": [
    "identify_date(\"2013\")"
   ]
  },
  {
   "cell_type": "code",
   "execution_count": null,
   "id": "37a9a7a7",
   "metadata": {},
   "outputs": [],
   "source": []
  },
  {
   "cell_type": "code",
   "execution_count": null,
   "id": "3383c16d",
   "metadata": {},
   "outputs": [],
   "source": []
  },
  {
   "cell_type": "code",
   "execution_count": 134,
   "id": "4769b90c",
   "metadata": {},
   "outputs": [],
   "source": [
    "def identify_size(filtered_str):\n",
    "    found = re.search(\"([0-9]+)\\s?x\\s?([0-9]+)\\s?([a-z]{0,3})\", filtered_str)\n",
    "    if found:\n",
    "        return {\"height\": found[1], \"width\": found[2], \"unit\": found[3]}"
   ]
  },
  {
   "cell_type": "code",
   "execution_count": 135,
   "id": "e594622d",
   "metadata": {},
   "outputs": [
    {
     "data": {
      "text/plain": [
       "('70', '90', '')"
      ]
     },
     "execution_count": 135,
     "metadata": {},
     "output_type": "execute_result"
    }
   ],
   "source": [
    "identify_size(\"70 x 90\")"
   ]
  },
  {
   "cell_type": "code",
   "execution_count": null,
   "id": "df16d7a8",
   "metadata": {},
   "outputs": [],
   "source": []
  },
  {
   "cell_type": "code",
   "execution_count": 158,
   "id": "79be1841",
   "metadata": {},
   "outputs": [],
   "source": []
  },
  {
   "cell_type": "code",
   "execution_count": 159,
   "id": "13d2f679",
   "metadata": {},
   "outputs": [
    {
     "data": {
      "text/plain": [
       "{'height': '80', 'width': '127', 'depth': '68', 'unit': ''}"
      ]
     },
     "execution_count": 159,
     "metadata": {},
     "output_type": "execute_result"
    }
   ],
   "source": [
    "identify_volume('H : 80 - L: 127- P: 68')"
   ]
  },
  {
   "cell_type": "code",
   "execution_count": 160,
   "id": "251b9555",
   "metadata": {},
   "outputs": [
    {
     "data": {
      "text/plain": [
       "{'height': '80', 'width': '127', 'depth': '68', 'unit': ''}"
      ]
     },
     "execution_count": 160,
     "metadata": {},
     "output_type": "execute_result"
    }
   ],
   "source": [
    "identify_volume('H : 80 - L: 127- P: 68')"
   ]
  },
  {
   "cell_type": "code",
   "execution_count": null,
   "id": "be789c4e",
   "metadata": {},
   "outputs": [],
   "source": []
  },
  {
   "cell_type": "code",
   "execution_count": 291,
   "id": "3c76e20a",
   "metadata": {},
   "outputs": [],
   "source": [
    "a = \"(?P<name>[\\b[A-Za-z]+\\s?-?]+)\\s+(?P<surname>[A-Z\\s-]+)\\s+\\(\\s*(?P<birth>[0-9]{4})\\s*-\\s*(?P<death>[0-9]{4})\\s*\\)\"\n",
    "\n",
    "b = \"\\)\\s*(?P<death>[0-9]{4})\\s*\\-\\s*(?P<birth>[0-9]{4})\\s*\\(\\s+(?P<surname>[A-Z -']+)\\s+(?P<name>([A-Za-z -'éèê]*[A-Z])+)\""
   ]
  },
  {
   "cell_type": "code",
   "execution_count": 293,
   "id": "d20c8d6b",
   "metadata": {},
   "outputs": [
    {
     "data": {
      "text/plain": [
       "{'death': '2891',\n",
       " 'birth': '7091',\n",
       " 'surname': \"TEUOP EREINSA'D\",\n",
       " 'name': 'neitsabéS naeJ'}"
      ]
     },
     "execution_count": 293,
     "metadata": {},
     "output_type": "execute_result"
    }
   ],
   "source": [
    "p = re.compile(b)\n",
    "p.search(str_reverse(\"tableau de Jean Sébastien D'ASNIERE POUET  (  1907 - 1982)  \")).groupdict()"
   ]
  },
  {
   "cell_type": "code",
   "execution_count": null,
   "id": "32f9291c",
   "metadata": {},
   "outputs": [],
   "source": []
  },
  {
   "cell_type": "code",
   "execution_count": null,
   "id": "82c8d6aa",
   "metadata": {},
   "outputs": [],
   "source": []
  },
  {
   "cell_type": "code",
   "execution_count": 271,
   "id": "432b0ae8",
   "metadata": {},
   "outputs": [
    {
     "data": {
      "text/plain": [
       "{'death': '1982', 'birth': '1907', 'surname': 'POUET', 'name': \"D'ASNIERE\"}"
      ]
     },
     "execution_count": 271,
     "metadata": {},
     "output_type": "execute_result"
    }
   ],
   "source": [
    "identify_author(\"Jean-Sébastien D'ASNIERE POUET  (  1907 - 1982)  \")"
   ]
  },
  {
   "cell_type": "code",
   "execution_count": 214,
   "id": "a5b95556",
   "metadata": {},
   "outputs": [],
   "source": []
  },
  {
   "cell_type": "code",
   "execution_count": 215,
   "id": "55ccde56",
   "metadata": {},
   "outputs": [
    {
     "data": {
      "text/plain": [
       "'cba'"
      ]
     },
     "execution_count": 215,
     "metadata": {},
     "output_type": "execute_result"
    }
   ],
   "source": [
    "str_reverse(\"abc\")"
   ]
  },
  {
   "cell_type": "code",
   "execution_count": 188,
   "id": "efdf9b0a",
   "metadata": {},
   "outputs": [],
   "source": []
  },
  {
   "cell_type": "code",
   "execution_count": 161,
   "id": "a1a69fec",
   "metadata": {},
   "outputs": [],
   "source": [
    "identify_lot()"
   ]
  },
  {
   "cell_type": "code",
   "execution_count": 164,
   "id": "7a838b3c",
   "metadata": {},
   "outputs": [
    {
     "data": {
      "text/plain": [
       "['__doc__',\n",
       " '__loader__',\n",
       " '__name__',\n",
       " '__package__',\n",
       " '__spec__',\n",
       " '_grouper',\n",
       " '_tee',\n",
       " '_tee_dataobject',\n",
       " 'accumulate',\n",
       " 'chain',\n",
       " 'combinations',\n",
       " 'combinations_with_replacement',\n",
       " 'compress',\n",
       " 'count',\n",
       " 'cycle',\n",
       " 'dropwhile',\n",
       " 'filterfalse',\n",
       " 'groupby',\n",
       " 'islice',\n",
       " 'permutations',\n",
       " 'product',\n",
       " 'repeat',\n",
       " 'starmap',\n",
       " 'takewhile',\n",
       " 'tee',\n",
       " 'zip_longest']"
      ]
     },
     "execution_count": 164,
     "metadata": {},
     "output_type": "execute_result"
    }
   ],
   "source": [
    "dir(itertools)"
   ]
  },
  {
   "cell_type": "code",
   "execution_count": 166,
   "id": "ff8b5b83",
   "metadata": {},
   "outputs": [
    {
     "data": {
      "text/plain": [
       "[(1, 2), (1, 4), (3, 2), (3, 4)]"
      ]
     },
     "execution_count": 166,
     "metadata": {},
     "output_type": "execute_result"
    }
   ],
   "source": [
    "list(itertools.product([1, 3], [2, 4]))"
   ]
  },
  {
   "cell_type": "code",
   "execution_count": 183,
   "id": "d7f6e1b2",
   "metadata": {},
   "outputs": [
    {
     "data": {
      "text/plain": [
       "[{'lot_id': '30', 'bis': ''},\n",
       " {'lot_id': '31', 'bis': ''},\n",
       " 1900,\n",
       " ('22', '27', 'cm'),\n",
       " {'name': 'Philippe', 'surname': 'VEYRIN', 'birth': '1900', 'death': '1962'}]"
      ]
     },
     "execution_count": 183,
     "metadata": {},
     "output_type": "execute_result"
    }
   ],
   "source": [
    "data = ['Gouache sur papier',\n",
    "         'Lot n° 30',\n",
    "         'Paysage de neige',\n",
    "         '22 x 27 cm',\n",
    "         'Lot n° 31',\n",
    "         'Philippe VEYRIN (1900- 1962)',\n",
    "         'Maison']\n",
    "identify_lot_infos(data)"
   ]
  },
  {
   "cell_type": "code",
   "execution_count": null,
   "id": "f4fc03c9",
   "metadata": {},
   "outputs": [],
   "source": []
  }
 ],
 "metadata": {
  "kernelspec": {
   "display_name": "Python 3 (ipykernel)",
   "language": "python",
   "name": "python3"
  },
  "language_info": {
   "codemirror_mode": {
    "name": "ipython",
    "version": 3
   },
   "file_extension": ".py",
   "mimetype": "text/x-python",
   "name": "python",
   "nbconvert_exporter": "python",
   "pygments_lexer": "ipython3",
   "version": "3.8.10"
  }
 },
 "nbformat": 4,
 "nbformat_minor": 5
}
